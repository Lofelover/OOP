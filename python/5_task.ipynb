{
 "cells": [
  {
   "cell_type": "markdown",
   "id": "85755de8",
   "metadata": {},
   "source": [
    "# Самостоятельное задание #5\n",
    "\n",
    "\n",
    "### Задание 1\n",
    "\n",
    "Допишите функцию, которая принимает список, выбирает из него все элементы с четным индексом и возвращает их в виде списка."
   ]
  },
  {
   "cell_type": "code",
   "execution_count": 4,
   "id": "6ef6d9b3",
   "metadata": {},
   "outputs": [
    {
     "name": "stdout",
     "output_type": "stream",
     "text": [
      "[1, 3, 5]\n"
     ]
    }
   ],
   "source": [
    "def index(arr):\n",
    "\treturn arr[::2]\n",
    "\n",
    "arr = [1, 2, 3, 4, 5]\n",
    "\n",
    "print(index(arr))"
   ]
  },
  {
   "cell_type": "markdown",
   "id": "443974c9",
   "metadata": {},
   "source": [
    "### Задание 2\n",
    "\n",
    "Допишите функцию, которая принимает список, выбирает из него все элементы, которые больше предыдущего и возвращает их в виде списка.\n"
   ]
  },
  {
   "cell_type": "code",
   "execution_count": 7,
   "id": "3a8cf925",
   "metadata": {},
   "outputs": [
    {
     "name": "stdout",
     "output_type": "stream",
     "text": [
      "[5, 6, 5, 6, 5]\n"
     ]
    }
   ],
   "source": [
    "def comparisonInArray(arr):\n",
    "\ta = []\n",
    "\tfor i in range(len(arr)-1):\n",
    "\t\tif arr[i] < arr[i+1]:\n",
    "\t\t\ta.append(arr[i+1])\n",
    "\treturn a\n",
    "\n",
    "arr = [1, 5, 6, 2, 5, 6, 1, 5]\n",
    "print(comparisonInArray(arr))"
   ]
  },
  {
   "cell_type": "markdown",
   "id": "34524ede",
   "metadata": {},
   "source": [
    "### Задание 3\n",
    "\n",
    "Допишите функцию, которая принимает список, меняет местами наибольший и наименьший элементы и возвращает этот список."
   ]
  },
  {
   "cell_type": "code",
   "execution_count": 2,
   "id": "34d2beae",
   "metadata": {},
   "outputs": [
    {
     "name": "stdout",
     "output_type": "stream",
     "text": [
      "[9, 4, 8, 2, 3, 1, 6, 7]\n"
     ]
    }
   ],
   "source": [
    "def replacingNumbers(arr):\n",
    "    min = arr[0]\n",
    "    max = arr[0]\n",
    "    minIndex = 0\n",
    "    maxIndex = 0\n",
    "    for i in range(len(arr)):\n",
    "        if arr[i] < min:\n",
    "            min = arr[i]\n",
    "            minIndex = i\n",
    "        elif arr[i] > max:\n",
    "            max = arr[i]\n",
    "            maxIndex = i\n",
    "    arr[maxIndex], arr[minIndex] = arr[minIndex], arr[maxIndex]\n",
    "    return arr\n",
    "\n",
    "arr = [1, 2, 3, 4, 5, 6]\n",
    "print(replacingNumbers(arr))\n",
    "\n"
   ]
  }
 ],
 "metadata": {
  "kernelspec": {
   "display_name": "Python 3.10.1 ('venv': venv)",
   "language": "python",
   "name": "python3"
  },
  "language_info": {
   "codemirror_mode": {
    "name": "ipython",
    "version": 3
   },
   "file_extension": ".py",
   "mimetype": "text/x-python",
   "name": "python",
   "nbconvert_exporter": "python",
   "pygments_lexer": "ipython3",
   "version": "3.10.1"
  },
  "vscode": {
   "interpreter": {
    "hash": "3580afe918a36b91355f778400588b14403073da78ad5f0782f0c4d2ef2d5571"
   }
  }
 },
 "nbformat": 4,
 "nbformat_minor": 5
}
