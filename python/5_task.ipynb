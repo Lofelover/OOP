{
 "cells": [
  {
   "cell_type": "markdown",
   "id": "85755de8",
   "metadata": {},
   "source": [
    "# Самостоятельное задание #5\n",
    "\n",
    "\n",
    "### Задание 1\n",
    "\n",
    "Допишите функцию, которая принимает список, выбирает из него все элементы с четным индексом и возвращает их в виде списка."
   ]
  },
  {
   "cell_type": "code",
   "execution_count": 1,
   "id": "6ef6d9b3",
   "metadata": {},
   "outputs": [
    {
     "name": "stdout",
     "output_type": "stream",
     "text": [
      "[1, 3, 5]\n"
     ]
    }
   ],
   "source": [
    "def func(List):\n",
    "\tnewList = []\n",
    "\tfor i in range(0, len(List), 2):\n",
    "\t\tnewList.append(List[i])\n",
    "\treturn newList\n",
    "\n",
    "L = [1, 2, 3, 4, 5, 6]\n",
    "print(func(L))\n"
   ]
  },
  {
   "cell_type": "markdown",
   "id": "443974c9",
   "metadata": {},
   "source": [
    "### Задание 2\n",
    "\n",
    "Допишите функцию, которая принимает список, выбирает из него все элементы, которые больше предыдущего и возвращает их в виде списка.\n"
   ]
  },
  {
   "cell_type": "code",
   "execution_count": 8,
   "id": "3a8cf925",
   "metadata": {},
   "outputs": [
    {
     "name": "stdout",
     "output_type": "stream",
     "text": [
      "L = [0, 1, 2, 3, 4, 5, 6, 0, 1, 2]\n",
      "[1, 2, 3, 4, 5, 6, 1, 2]\n"
     ]
    }
   ],
   "source": [
    "def func(List):\n",
    "\tnewList = []\n",
    "\tfor i in range(0, len(List)-1):\n",
    "\t\tif List[i] < List[i+1]:\n",
    "\t\t\tnewList.append(List[i+1])\n",
    "\treturn newList\n",
    "\n",
    "L = []\n",
    "for i in range(10):\n",
    "\tL.append(i%7)\n",
    "print('L = ', end = '')\n",
    "print(L)\n",
    "print(func(L))"
   ]
  },
  {
   "cell_type": "markdown",
   "id": "34524ede",
   "metadata": {},
   "source": [
    "### Задание 3\n",
    "\n",
    "Допишите функцию, которая принимает список, меняет местами наибольший и наименьший элементы и возвращает этот список."
   ]
  },
  {
   "cell_type": "code",
   "execution_count": 2,
   "id": "34d2beae",
   "metadata": {},
   "outputs": [
    {
     "name": "stdout",
     "output_type": "stream",
     "text": [
      "[9, 4, 8, 2, 3, 1, 6, 7]\n"
     ]
    }
   ],
   "source": [
    "def MinMaxSwap(A):\n",
    "\tif len(A) == 0:\n",
    "\t\treturn None\n",
    "\tMax = Min = 0\n",
    "\tfor i in range(len(A)):\n",
    "\t\tif (A[i] > A[Max]):\n",
    "\t\t\tMax = i\n",
    "\t\tif (A[i] < A[Min]):\n",
    "\t\t\tMin = i\n",
    "\tA[Min], A[Max] = A[Max], A[Min]\n",
    "\treturn A\n",
    "\n",
    "A = [1, 4, 8, 2, 3, 9, 6, 7]\n",
    "print(MinMaxSwap(A))"
   ]
  }
 ],
 "metadata": {
  "kernelspec": {
   "display_name": "Python 3.8.10 64-bit",
   "language": "python",
   "name": "python3"
  },
  "language_info": {
   "codemirror_mode": {
    "name": "ipython",
    "version": 3
   },
   "file_extension": ".py",
   "mimetype": "text/x-python",
   "name": "python",
   "nbconvert_exporter": "python",
   "pygments_lexer": "ipython3",
   "version": "3.8.10"
  },
  "vscode": {
   "interpreter": {
    "hash": "916dbcbb3f70747c44a77c7bcd40155683ae19c65e1c03b4aa3499c5328201f1"
   }
  }
 },
 "nbformat": 4,
 "nbformat_minor": 5
}
