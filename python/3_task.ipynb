{
 "cells": [
  {
   "cell_type": "markdown",
   "id": "657be689",
   "metadata": {},
   "source": [
    "# Самостоятельное задание #3\n",
    "\n",
    "\n",
    "### Задание 1\n",
    "\n",
    "Допишите функцию, которая принимает массив из 10 чисел и возвращает их сумму."
   ]
  },
  {
   "cell_type": "code",
   "execution_count": 14,
   "id": "18ffcbab",
   "metadata": {},
   "outputs": [
    {
     "name": "stdout",
     "output_type": "stream",
     "text": [
      "10\n"
     ]
    }
   ],
   "source": [
    "def SumArray(arr):\n",
    "\tsum = 0\n",
    "\tfor i in arr:\n",
    "\t\tsum += i\n",
    "\treturn sum\n",
    "\n",
    "arr = [0, 1, 2, 3, 0, 4, 0]\n",
    "print(SumArray(arr))"
   ]
  },
  {
   "cell_type": "markdown",
   "id": "eb78afc0",
   "metadata": {},
   "source": [
    "\n",
    "### Задание 2\n",
    "\n",
    "Допишите функцию, которая принимает массив чисел и возвращает количество чисел равных нулю."
   ]
  },
  {
   "cell_type": "code",
   "execution_count": 12,
   "id": "7e8fe536",
   "metadata": {},
   "outputs": [
    {
     "name": "stdout",
     "output_type": "stream",
     "text": [
      "3\n"
     ]
    }
   ],
   "source": [
    "def CountZero(arr):\n",
    "\tcount = 0\n",
    "\tfor i in arr:\n",
    "\t\tif i == 0:\n",
    "\t\t\tcount += 1\n",
    "\treturn count\n",
    "\n",
    "zero = [0, 1, 2, 3, 0, 4, 0]\n",
    "print(CountZero(zero))"
   ]
  },
  {
   "cell_type": "markdown",
   "id": "570d5a26",
   "metadata": {},
   "source": [
    "\n",
    "### Задание 3\n",
    "\n",
    "Напишите программу, в которой задается  натуральное число n и выводится лестница из n ступенек, i-я ступенька должна состоять из чисел от 1 до i без пробелов."
   ]
  },
  {
   "cell_type": "code",
   "execution_count": 15,
   "id": "69fd0501",
   "metadata": {},
   "outputs": [
    {
     "name": "stdout",
     "output_type": "stream",
     "text": [
      "1 \n",
      "12 \n",
      "123 \n",
      "1234 \n"
     ]
    }
   ],
   "source": [
    "x = 1\n",
    "i = 4\n",
    "while (x != i+1):\n",
    "\tfor j in range(1, x+1):\n",
    "\t\tprint(j, end=\"\")\n",
    "\tx += 1\n",
    "\tprint(\" \")\n",
    "\n"
   ]
  },
  {
   "cell_type": "markdown",
   "metadata": {},
   "source": [
    "1\n",
    "12\n",
    "123\n",
    "1234\n",
    "12345"
   ]
  },
  {
   "cell_type": "markdown",
   "id": "b6ef1c44",
   "metadata": {},
   "source": [
    "\n",
    "### Задание 4\n",
    "\n",
    "Напишите программу, в которой задается натуральное число n и выводится пирамида из n ступенек, i-я ступень должна состоять из чисел от 1 до i и обратно без пробелов."
   ]
  },
  {
   "cell_type": "code",
   "execution_count": 18,
   "id": "6b038f87",
   "metadata": {},
   "outputs": [
    {
     "name": "stdout",
     "output_type": "stream",
     "text": [
      "\n",
      "1 \n",
      "1 2 1 \n",
      "1 2 3 2 1 \n"
     ]
    }
   ],
   "source": [
    "rows = 4\n",
    "for i in range(1, rows + 1):\n",
    "    for j in range(1, i - 1):\n",
    "        print(j, end=\" \")\n",
    "    for j in range(i - 1, 0, -1):\n",
    "        print(j, end=\" \")\n",
    "    print()"
   ]
  },
  {
   "cell_type": "markdown",
   "id": "b4552ef5",
   "metadata": {},
   "source": [
    "\n",
    "### Задание 5\n",
    "\n",
    "Напишите программу, в которой задается натуральное число n и выводится ромб из `n*2-1` ступенек, i-я ступень должна состоять из чисел от 1 до i и обратно без пробелов."
   ]
  },
  {
   "cell_type": "code",
   "execution_count": 19,
   "id": "5eaae897",
   "metadata": {},
   "outputs": [
    {
     "name": "stdout",
     "output_type": "stream",
     "text": [
      "\n",
      "1 \n",
      "1 2 1 \n",
      "1 2 3 2 1 \n",
      "1 2 3 2 1 \n",
      "1 2 1 \n",
      "1 \n",
      "\n"
     ]
    }
   ],
   "source": [
    "rows = 4\n",
    "for i in range(1, rows + 1):\n",
    "    for j in range(1, i - 1):\n",
    "        print(j, end=\" \")\n",
    "    for j in range(i - 1, 0, -1):\n",
    "        print(j, end=\" \")\n",
    "    print()\n",
    "for i in range(rows, 0, -1):\n",
    "    for j in range(1, i - 1):\n",
    "        print(j, end=\" \")\n",
    "    for j in range(i - 1, 0, -1):\n",
    "        print(j, end=\" \")\n",
    "    print()"
   ]
  }
 ],
 "metadata": {
  "kernelspec": {
   "display_name": "Python 3.10.1 ('venv': venv)",
   "language": "python",
   "name": "python3"
  },
  "language_info": {
   "codemirror_mode": {
    "name": "ipython",
    "version": 3
   },
   "file_extension": ".py",
   "mimetype": "text/x-python",
   "name": "python",
   "nbconvert_exporter": "python",
   "pygments_lexer": "ipython3",
   "version": "3.10.1"
  },
  "vscode": {
   "interpreter": {
    "hash": "3580afe918a36b91355f778400588b14403073da78ad5f0782f0c4d2ef2d5571"
   }
  }
 },
 "nbformat": 4,
 "nbformat_minor": 5
}
