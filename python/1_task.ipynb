{
 "cells": [
  {
   "cell_type": "markdown",
   "id": "caec52ff",
   "metadata": {},
   "source": [
    "# Самостоятельное задание\n",
    "\n",
    "Мы предлагаем вам потренироваться c логическими и побитовыми операторами."
   ]
  },
  {
   "cell_type": "code",
   "execution_count": 2,
   "id": "7fe7e97e",
   "metadata": {},
   "outputs": [
    {
     "name": "stdout",
     "output_type": "stream",
     "text": [
      "[False, False, True, False, False, 4, 0, 1, 2]\n"
     ]
    }
   ],
   "source": [
    "a = True\n",
    "\n",
    "b = False\n",
    "\n",
    "MyList = [a and b,\n",
    "\t\t\t\t\t(a and b) or b,\n",
    "\t\t\t\t\t(a and b) or not (a and b),\n",
    "\t\t\t\t\ta and b or not (a or b) or b,\n",
    "\t\t\t\t\tb and b or not a and (a or b or a) or not (a or b),\n",
    "\t\t\t\t\t1 << 2,\n",
    "\t\t\t\t\t1 & 0 | 1 >> 1,\n",
    "\t\t\t\t\t1 & 0 | 1 >> 0,\n",
    "\t\t\t\t\t0b101 & 0b111 ^ 0b111 | 0b010,\n",
    "]\n",
    "\n",
    "print(MyList)"
   ]
  },
  {
   "cell_type": "markdown",
   "id": "06c53579",
   "metadata": {},
   "source": [
    "**Решите:**\n",
    "\n",
    "1. a and b\n | False",
    "\n",
    "2. (a and b) or b\n | False",
    "\n",
    "3. (a and b) or not (a and b)\n | True",
    "\n",
    "4. a and b or not (a or b) or b\n | False",
    "\n",
    "5. b and b or not a and (a or b or a) or not (a or b)\n | False",
    "\n",
    "6. 1 << 2\n | 4",
    "\n",
    "7. 1 & 0 | 1 >> 1\n | 0",
    "\n",
    "8. 1 & 0 | 1 >> 0\n | 1",
    "\n",
    "9. 0b101 & 0b111 ^ 0b111 | 0b010  Комментарий: \"0b101\" - запись числа \"5\" на языке Python в двоичном виде | 2 "
   ]
  }
 ],
 "metadata": {
  "kernelspec": {
   "display_name": "Python 3.8.10 64-bit",
   "language": "python",
   "name": "python3"
  },
  "language_info": {
   "codemirror_mode": {
    "name": "ipython",
    "version": 3
   },
   "file_extension": ".py",
   "mimetype": "text/x-python",
   "name": "python",
   "nbconvert_exporter": "python",
   "pygments_lexer": "ipython3",
   "version": "3.8.10"
  },
  "vscode": {
   "interpreter": {
    "hash": "916dbcbb3f70747c44a77c7bcd40155683ae19c65e1c03b4aa3499c5328201f1"
   }
  }
 },
 "nbformat": 4,
 "nbformat_minor": 5
}
