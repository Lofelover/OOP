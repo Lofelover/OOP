{
 "cells": [
  {
   "cell_type": "markdown",
   "id": "d89e88d8",
   "metadata": {},
   "source": [
    "# Самостоятельное задание #7\n",
    "\n",
    "\n",
    "### Задание 1\n",
    "\n",
    "Допишите функцию, которая принимает список чисел и, с помощью множеств, определяет количество различных чисел внутри списка."
   ]
  },
  {
   "cell_type": "code",
   "execution_count": 2,
   "id": "1b443f02",
   "metadata": {},
   "outputs": [
    {
     "name": "stdout",
     "output_type": "stream",
     "text": [
      "4\n"
     ]
    }
   ],
   "source": [
    "def CountDiffNums(L):\n",
    "\tS = set()\n",
    "\tfor i in range(len(L)):\n",
    "\t\tS.add(L[i])\n",
    "\treturn len(S)\n",
    "\n",
    "L = [1, 2, 1, 2, 3, 4, 3]\n",
    "print(CountDiffNums(L))"
   ]
  },
  {
   "cell_type": "markdown",
   "id": "89118666",
   "metadata": {},
   "source": [
    "### Задание 2\n",
    "\n",
    "Допишите функцию, которая принимает несколько списков чисел и, с помощью множеств, определяет количество общих чисел из первого и второго списка."
   ]
  },
  {
   "cell_type": "code",
   "execution_count": 5,
   "id": "9ad5e3fd",
   "metadata": {},
   "outputs": [
    {
     "name": "stdout",
     "output_type": "stream",
     "text": [
      "2\n"
     ]
    }
   ],
   "source": [
    "def CountIntersect(A, B):\n",
    "\tS1 = set()\n",
    "\tS2 = set()\n",
    "\tfor i in range(len(A)):\n",
    "\t\tS1.add(A[i])\n",
    "\tfor i in range(len(B)):\n",
    "\t\tS2.add(B[i])\n",
    "\tS = S1 & S2\n",
    "\treturn len(S)\n",
    "\n",
    "A = [1, 2, 3, 4, 5, 6, 7]\n",
    "B = [-1, 2, 5, 8, 3]\n",
    "print(CountIntersect(A, B))"
   ]
  }
 ],
 "metadata": {
  "kernelspec": {
   "display_name": "Python 3.8.10 64-bit",
   "language": "python",
   "name": "python3"
  },
  "language_info": {
   "codemirror_mode": {
    "name": "ipython",
    "version": 3
   },
   "file_extension": ".py",
   "mimetype": "text/x-python",
   "name": "python",
   "nbconvert_exporter": "python",
   "pygments_lexer": "ipython3",
   "version": "3.8.10"
  },
  "vscode": {
   "interpreter": {
    "hash": "916dbcbb3f70747c44a77c7bcd40155683ae19c65e1c03b4aa3499c5328201f1"
   }
  }
 },
 "nbformat": 4,
 "nbformat_minor": 5
}
