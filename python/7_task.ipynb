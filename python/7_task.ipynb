{
 "cells": [
  {
   "cell_type": "markdown",
   "id": "d89e88d8",
   "metadata": {},
   "source": [
    "# Самостоятельное задание #7\n",
    "\n",
    "\n",
    "### Задание 1\n",
    "\n",
    "Допишите функцию, которая принимает список чисел и, с помощью множеств, определяет количество различных чисел внутри списка."
   ]
  },
  {
   "cell_type": "code",
   "execution_count": 1,
   "id": "1b443f02",
   "metadata": {},
   "outputs": [
    {
     "name": "stdout",
     "output_type": "stream",
     "text": [
      "4\n"
     ]
    }
   ],
   "source": [
    "def getSet(arr):\n",
    "    answer = set()\n",
    "    for i in arr:\n",
    "        answer.add(i)\n",
    "    return len(answer)\n",
    "\n",
    "arr = [1, 4, 1, 5, 0, 4, 2]\n",
    "print(getSet(arr))"
   ]
  },
  {
   "cell_type": "markdown",
   "id": "89118666",
   "metadata": {},
   "source": [
    "### Задание 2\n",
    "\n",
    "Допишите функцию, которая принимает несколько списков чисел и, с помощью множеств, определяет количество общих чисел из первого и второго списка."
   ]
  },
  {
   "cell_type": "code",
   "execution_count": 2,
   "id": "9ad5e3fd",
   "metadata": {},
   "outputs": [
    {
     "name": "stdout",
     "output_type": "stream",
     "text": [
      "3\n"
     ]
    }
   ],
   "source": [
    "def getNumbers(arr, arr1):\n",
    "    plenty = set()\n",
    "    plenty1 = set()\n",
    "    for i in arr:\n",
    "        plenty.add(i)\n",
    "    for i in arr1:\n",
    "        plenty1.add(i)\n",
    "    return len(plenty & plenty1)\n",
    "\n",
    "arr = [1, 4, 2, 5, 4, 2, 1]\n",
    "arr1 = [1, 4, 1, 2, 4, 1 ,4]\n",
    "\n",
    "print(getNumbers(arr, arr1))"
   ]
  }
 ],
 "metadata": {
  "kernelspec": {
   "display_name": "Python 3.10.1 ('venv': venv)",
   "language": "python",
   "name": "python3"
  },
  "language_info": {
   "codemirror_mode": {
    "name": "ipython",
    "version": 3
   },
   "file_extension": ".py",
   "mimetype": "text/x-python",
   "name": "python",
   "nbconvert_exporter": "python",
   "pygments_lexer": "ipython3",
   "version": "3.10.1"
  },
  "vscode": {
   "interpreter": {
    "hash": "3580afe918a36b91355f778400588b14403073da78ad5f0782f0c4d2ef2d5571"
   }
  }
 },
 "nbformat": 4,
 "nbformat_minor": 5
}
